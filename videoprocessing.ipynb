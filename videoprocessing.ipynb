{
 "cells": [
  {
   "cell_type": "markdown",
   "id": "4b53927f",
   "metadata": {},
   "source": [
    "# Multimodal RAG app with LanceDB and LlamaIndex"
   ]
  },
  {
   "cell_type": "markdown",
   "id": "9ccc0b34",
   "metadata": {},
   "source": [
    "## Video Processing"
   ]
  },
  {
   "cell_type": "code",
   "execution_count": null,
   "id": "dc06c65f",
   "metadata": {
    "vscode": {
     "languageId": "plaintext"
    }
   },
   "outputs": [],
   "source": []
  }
 ],
 "metadata": {
  "language_info": {
   "name": "python"
  }
 },
 "nbformat": 4,
 "nbformat_minor": 5
}
